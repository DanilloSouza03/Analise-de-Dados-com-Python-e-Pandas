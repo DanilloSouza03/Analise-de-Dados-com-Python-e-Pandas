{
  "cells": [
    {
      "cell_type": "markdown",
      "metadata": {
        "id": "j1MWTvwA4iJl"
      },
      "source": [
        "# **Trabalhando com Planilhas do Excel**"
      ]
    },
    {
      "cell_type": "code",
      "execution_count": 14,
      "metadata": {
        "id": "g2H39S2O4na0"
      },
      "outputs": [],
      "source": [
        "#Importando a biblioteca pandas\n",
        "import pandas as pd"
      ]
    },
    {
      "cell_type": "code",
      "execution_count": 15,
      "metadata": {
        "id": "EKWQbVm-6xcz"
      },
      "outputs": [],
      "source": [
        "#Leitura dos arquivos\n",
        "df1 = pd.read_excel(\"Aracaju.xlsx\")\n",
        "df2 = pd.read_excel(\"Fortaleza.xlsx\")\n",
        "df3 = pd.read_excel(\"Natal.xlsx\")\n",
        "df4 = pd.read_excel(\"Recife.xlsx\")\n",
        "df5 = pd.read_excel(\"Salvador.xlsx\")"
      ]
    },
    {
      "cell_type": "code",
      "execution_count": 21,
      "metadata": {
        "id": "Fuy-lzIe7jt2"
      },
      "outputs": [],
      "source": [
        "#Juntando todos arquivos\n",
        "df = pd.concat([df1,df2,df3,df4,df5])"
      ]
    },
    {
      "cell_type": "code",
      "execution_count": null,
      "metadata": {
        "id": "0sLqoqwA70rb"
      },
      "outputs": [],
      "source": [
        "#Exibindo as 5 primeiras linhas\n",
        "df.head()"
      ]
    },
    {
      "cell_type": "code",
      "execution_count": null,
      "metadata": {
        "id": "eKp7RDGU728F"
      },
      "outputs": [],
      "source": [
        "#Exbindo as 5 últimas linhas\n",
        "df.tail()"
      ]
    },
    {
      "cell_type": "code",
      "execution_count": null,
      "metadata": {
        "id": "Ne-PiUfz95Y6"
      },
      "outputs": [],
      "source": [
        "#Exibindo uma amostra de 10 linhas\n",
        "df.sample(10)"
      ]
    },
    {
      "cell_type": "code",
      "execution_count": null,
      "metadata": {
        "id": "3Aj-A6am8KwR"
      },
      "outputs": [],
      "source": [
        "#Verificando os tipos de dados de cada coluna\n",
        "df.dtypes"
      ]
    },
    {
      "cell_type": "code",
      "execution_count": 29,
      "metadata": {
        "id": "MO1ZCTcc-bwj"
      },
      "outputs": [],
      "source": [
        "#Alterando o tipo de dado da coluna LojaID\n",
        "df[\"LojaID\"] = df[\"LojaID\"].astype(\"object\")"
      ]
    },
    {
      "cell_type": "code",
      "execution_count": null,
      "metadata": {
        "id": "IBE_Jcoc-0bo"
      },
      "outputs": [],
      "source": [
        "#Verificando os tipos de dados de cada coluna\n",
        "df.dtypes"
      ]
    },
    {
      "cell_type": "code",
      "execution_count": null,
      "metadata": {
        "id": "ZqUMzucT_ECP"
      },
      "outputs": [],
      "source": [
        "#Exibindo as 5 primeiras linhas\n",
        "df.head()"
      ]
    },
    {
      "cell_type": "code",
      "execution_count": null,
      "metadata": {
        "id": "aREwgaew8aIl"
      },
      "outputs": [],
      "source": [
        "#Verificando a quantidade de linhas e colunas\n",
        "df.shape"
      ]
    },
    {
      "cell_type": "markdown",
      "metadata": {
        "id": "yc5TxXbG_QAf"
      },
      "source": [
        "### **Tratando valores faltantes**"
      ]
    },
    {
      "cell_type": "code",
      "execution_count": null,
      "metadata": {
        "id": "uPMFiWPh_cde"
      },
      "outputs": [],
      "source": [
        "#Consultando linhas com valores faltantes\n",
        "df.isnull().sum()"
      ]
    },
    {
      "cell_type": "code",
      "execution_count": 37,
      "metadata": {
        "id": "BpT8n_gYAsSX"
      },
      "outputs": [],
      "source": [
        "#Substituindo os valores numos pela média em memória\n",
        "df[\"Vendas\"].fillna(df[\"Vendas\"].mean(), inplace=True)"
      ]
    },
    {
      "cell_type": "code",
      "execution_count": null,
      "metadata": {
        "id": "HLDiKQlxCL_S"
      },
      "outputs": [],
      "source": [
        "#Vendo a média da coluna Vendas\n",
        "df[\"Vendas\"].mean()"
      ]
    },
    {
      "cell_type": "code",
      "execution_count": null,
      "metadata": {
        "id": "6RjR2tK2AvD_"
      },
      "outputs": [],
      "source": [
        "#Consultando linhas com valores faltantes\n",
        "df.isnull().sum()"
      ]
    },
    {
      "cell_type": "code",
      "execution_count": 40,
      "metadata": {
        "id": "iwjogbnpCDgL"
      },
      "outputs": [],
      "source": [
        "#Substituindo os valores nulos por zero\n",
        "df[\"Vendas\"].fillna(0, inplace=True)"
      ]
    },
    {
      "cell_type": "code",
      "execution_count": 48,
      "metadata": {
        "id": "wskuQI0jC6vo"
      },
      "outputs": [],
      "source": [
        "#Apagando as linhas com valores nulos\n",
        "df.dropna(inplace=True)"
      ]
    },
    {
      "cell_type": "code",
      "execution_count": 49,
      "metadata": {
        "id": "2oJH-SC8Dczf"
      },
      "outputs": [],
      "source": [
        "#Apagando as linhas com valores nulos com base em uma coluna\n",
        "df.dropna(subset=[\"Vendas\"], inplace=True)"
      ]
    },
    {
      "cell_type": "code",
      "execution_count": 50,
      "metadata": {
        "id": "O29HeffsDshf"
      },
      "outputs": [],
      "source": [
        "#Removendo linhas que estejam com valores faltantes em todas colunas\n",
        "df.dropna(how=\"all\", inplace=True)"
      ]
    },
    {
      "cell_type": "markdown",
      "metadata": {
        "id": "8x0ASwEHD7ws"
      },
      "source": [
        "### **Criando colunas novas**"
      ]
    },
    {
      "cell_type": "code",
      "execution_count": 41,
      "metadata": {
        "id": "QJAkyXPTEByD"
      },
      "outputs": [],
      "source": [
        "#Criando a coluna de receita\n",
        "df[\"Receita\"] = df[\"Vendas\"].mul(df[\"Qtde\"]) "
      ]
    },
    {
      "cell_type": "code",
      "execution_count": null,
      "metadata": {
        "id": "GnBhVkz4Ehpd"
      },
      "outputs": [],
      "source": [
        "#Mostrando as 5 primeiras linhas\n",
        "df.head()"
      ]
    },
    {
      "cell_type": "code",
      "execution_count": 43,
      "metadata": {
        "id": "o0gzSqwSE9a3"
      },
      "outputs": [],
      "source": [
        "#Criando nova coluna\n",
        "df[\"Receita/Vendas\"] = df[\"Receita\"] / df[\"Vendas\"]"
      ]
    },
    {
      "cell_type": "code",
      "execution_count": null,
      "metadata": {
        "id": "oQtAB7PaFnLb"
      },
      "outputs": [],
      "source": [
        "#Mostrando as 5 primeiras linhas\n",
        "df.head()"
      ]
    },
    {
      "cell_type": "code",
      "execution_count": 52,
      "metadata": {
        "colab": {
          "base_uri": "https://localhost:8080/"
        },
        "id": "LQ1uE04SFzUz",
        "outputId": "6b8655a2-e5b2-432c-fc6e-85baf94177ea"
      },
      "outputs": [
        {
          "data": {
            "text/plain": [
              "3544.0"
            ]
          },
          "execution_count": 52,
          "metadata": {},
          "output_type": "execute_result"
        }
      ],
      "source": [
        "#Retornando a maior receita\n",
        "df[\"Receita\"].max()"
      ]
    },
    {
      "cell_type": "code",
      "execution_count": 53,
      "metadata": {
        "colab": {
          "base_uri": "https://localhost:8080/"
        },
        "id": "WPX647D1F8o3",
        "outputId": "945d9c4d-d5c2-463a-f7e8-dd7966e7dc2c"
      },
      "outputs": [
        {
          "data": {
            "text/plain": [
              "3.34"
            ]
          },
          "execution_count": 53,
          "metadata": {},
          "output_type": "execute_result"
        }
      ],
      "source": [
        "#Retornando a menor receita\n",
        "df[\"Receita\"].min()"
      ]
    },
    {
      "cell_type": "code",
      "execution_count": null,
      "metadata": {
        "id": "ITLBQyhGGQtS"
      },
      "outputs": [],
      "source": [
        "#3 maiores receitas\n",
        "df.nlargest(3, \"Receita\")"
      ]
    },
    {
      "cell_type": "code",
      "execution_count": null,
      "metadata": {
        "id": "lVsa_SQNGaMq"
      },
      "outputs": [],
      "source": [
        "#3 menores receitas\n",
        "df.nsmallest(3, \"Receita\")"
      ]
    },
    {
      "cell_type": "code",
      "execution_count": null,
      "metadata": {
        "id": "VEylHCfCHJSA"
      },
      "outputs": [],
      "source": [
        "#Agrupamento por cidade\n",
        "df.groupby(\"Cidade\")[\"Receita\"].sum()"
      ]
    },
    {
      "cell_type": "code",
      "execution_count": null,
      "metadata": {
        "id": "IBK6MODlHgW_"
      },
      "outputs": [],
      "source": [
        "#Ordenando o conjunto de dados\n",
        "df.sort_values(\"Receita\", ascending=False).head(10)"
      ]
    }
  ],
  "metadata": {
    "colab": {
      "provenance": []
    },
    "kernelspec": {
      "display_name": "Python 3.8.9 64-bit",
      "language": "python",
      "name": "python3"
    },
    "language_info": {
      "name": "python",
      "version": "3.8.9"
    },
    "vscode": {
      "interpreter": {
        "hash": "096bb311385f28ae85a3c1b9a82383b51995c6ab86b2b9a018627badcfff7c52"
      }
    }
  },
  "nbformat": 4,
  "nbformat_minor": 0
}
