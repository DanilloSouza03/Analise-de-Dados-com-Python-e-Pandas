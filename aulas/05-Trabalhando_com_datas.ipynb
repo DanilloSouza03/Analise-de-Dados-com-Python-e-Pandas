{
  "cells": [
    {
      "cell_type": "markdown",
      "metadata": {
        "id": "j1MWTvwA4iJl"
      },
      "source": [
        "# **Trabalhando com Planilhas do Excel**"
      ]
    },
    {
      "cell_type": "code",
      "execution_count": 1,
      "metadata": {
        "id": "g2H39S2O4na0"
      },
      "outputs": [],
      "source": [
        "#Importando a biblioteca pandas\n",
        "import pandas as pd"
      ]
    },
    {
      "cell_type": "code",
      "execution_count": 2,
      "metadata": {
        "id": "EKWQbVm-6xcz"
      },
      "outputs": [],
      "source": [
        "#Leitura dos arquivos\n",
        "df1 = pd.read_excel(\"Aracaju.xlsx\")\n",
        "df2 = pd.read_excel(\"Fortaleza.xlsx\")\n",
        "df3 = pd.read_excel(\"Natal.xlsx\")\n",
        "df4 = pd.read_excel(\"Recife.xlsx\")\n",
        "df5 = pd.read_excel(\"Salvador.xlsx\")"
      ]
    },
    {
      "cell_type": "code",
      "execution_count": 3,
      "metadata": {
        "id": "Fuy-lzIe7jt2"
      },
      "outputs": [],
      "source": [
        "#Juntando todos arquivos\n",
        "df = pd.concat([df1,df2,df3,df4,df5])"
      ]
    },
    {
      "cell_type": "code",
      "execution_count": null,
      "metadata": {
        "id": "0sLqoqwA70rb"
      },
      "outputs": [],
      "source": [
        "#Exibindo as 5 primeiras linhas\n",
        "df.head()"
      ]
    },
    {
      "cell_type": "code",
      "execution_count": null,
      "metadata": {
        "id": "eKp7RDGU728F"
      },
      "outputs": [],
      "source": [
        "#Exbindo as 5 últimas linhas\n",
        "df.tail()"
      ]
    },
    {
      "cell_type": "code",
      "execution_count": null,
      "metadata": {
        "id": "Ne-PiUfz95Y6"
      },
      "outputs": [],
      "source": [
        "#Exibindo uma amostra de 10 linhas\n",
        "df.sample(10)"
      ]
    },
    {
      "cell_type": "code",
      "execution_count": null,
      "metadata": {
        "id": "3Aj-A6am8KwR"
      },
      "outputs": [],
      "source": [
        "#Verificando os tipos de dados de cada coluna\n",
        "df.dtypes"
      ]
    },
    {
      "cell_type": "code",
      "execution_count": 6,
      "metadata": {
        "id": "MO1ZCTcc-bwj"
      },
      "outputs": [],
      "source": [
        "#Alterando o tipo de dado da coluna LojaID\n",
        "df[\"LojaID\"] = df[\"LojaID\"].astype(\"object\")"
      ]
    },
    {
      "cell_type": "code",
      "execution_count": null,
      "metadata": {
        "id": "IBE_Jcoc-0bo"
      },
      "outputs": [],
      "source": [
        "#Verificando os tipos de dados de cada coluna\n",
        "df.dtypes"
      ]
    },
    {
      "cell_type": "code",
      "execution_count": null,
      "metadata": {
        "id": "ZqUMzucT_ECP"
      },
      "outputs": [],
      "source": [
        "#Exibindo as 5 primeiras linhas\n",
        "df.head()"
      ]
    },
    {
      "cell_type": "code",
      "execution_count": null,
      "metadata": {
        "id": "aREwgaew8aIl"
      },
      "outputs": [],
      "source": [
        "#Verificando a quantidade de linhas e colunas\n",
        "df.shape"
      ]
    },
    {
      "cell_type": "markdown",
      "metadata": {
        "id": "yc5TxXbG_QAf"
      },
      "source": [
        "### **Tratando valores faltantes**"
      ]
    },
    {
      "cell_type": "code",
      "execution_count": null,
      "metadata": {
        "id": "uPMFiWPh_cde"
      },
      "outputs": [],
      "source": [
        "#Consultando linhas com valores faltantes\n",
        "df.isnull().sum()"
      ]
    },
    {
      "cell_type": "code",
      "execution_count": null,
      "metadata": {
        "id": "BpT8n_gYAsSX"
      },
      "outputs": [],
      "source": [
        "#Substituindo os valores numos pela média em memória\n",
        "df[\"Vendas\"].fillna(df[\"Vendas\"].mean(), inplace=True)"
      ]
    },
    {
      "cell_type": "code",
      "execution_count": null,
      "metadata": {
        "id": "HLDiKQlxCL_S"
      },
      "outputs": [],
      "source": [
        "#Vendo a média da coluna Vendas\n",
        "df[\"Vendas\"].mean()"
      ]
    },
    {
      "cell_type": "code",
      "execution_count": null,
      "metadata": {
        "id": "6RjR2tK2AvD_"
      },
      "outputs": [],
      "source": [
        "#Consultando linhas com valores faltantes\n",
        "df.isnull().sum()"
      ]
    },
    {
      "cell_type": "code",
      "execution_count": null,
      "metadata": {
        "id": "iwjogbnpCDgL"
      },
      "outputs": [],
      "source": [
        "#Substituindo os valores nulos por zero\n",
        "df[\"Vendas\"].fillna(0, inplace=True)"
      ]
    },
    {
      "cell_type": "code",
      "execution_count": null,
      "metadata": {
        "id": "wskuQI0jC6vo"
      },
      "outputs": [],
      "source": [
        "#Apagando as linhas com valores nulos\n",
        "df.dropna(inplace=True)"
      ]
    },
    {
      "cell_type": "code",
      "execution_count": null,
      "metadata": {
        "id": "2oJH-SC8Dczf"
      },
      "outputs": [],
      "source": [
        "#Apagando as linhas com valores nulos com base em uma coluna\n",
        "df.dropna(subset=[\"Vendas\"], inplace=True)"
      ]
    },
    {
      "cell_type": "code",
      "execution_count": null,
      "metadata": {
        "id": "O29HeffsDshf"
      },
      "outputs": [],
      "source": [
        "#Removendo linhas que estejam com valores faltantes em todas colunas\n",
        "df.dropna(how=\"all\", inplace=True)"
      ]
    },
    {
      "cell_type": "markdown",
      "metadata": {
        "id": "8x0ASwEHD7ws"
      },
      "source": [
        "### **Criando colunas novas**"
      ]
    },
    {
      "cell_type": "code",
      "execution_count": 9,
      "metadata": {
        "id": "QJAkyXPTEByD"
      },
      "outputs": [],
      "source": [
        "#Criando a coluna de receita\n",
        "df[\"Receita\"] = df[\"Vendas\"].mul(df[\"Qtde\"]) "
      ]
    },
    {
      "cell_type": "code",
      "execution_count": null,
      "metadata": {
        "id": "GnBhVkz4Ehpd"
      },
      "outputs": [],
      "source": [
        "#Mostrando as 5 primeiras linhas\n",
        "df.head()"
      ]
    },
    {
      "cell_type": "code",
      "execution_count": 11,
      "metadata": {
        "id": "o0gzSqwSE9a3"
      },
      "outputs": [],
      "source": [
        "#Criando nova coluna\n",
        "df[\"Receita/Vendas\"] = df[\"Receita\"] / df[\"Vendas\"]"
      ]
    },
    {
      "cell_type": "code",
      "execution_count": null,
      "metadata": {
        "id": "oQtAB7PaFnLb"
      },
      "outputs": [],
      "source": [
        "#Mostrando as 5 primeiras linhas\n",
        "df.head()"
      ]
    },
    {
      "cell_type": "code",
      "execution_count": null,
      "metadata": {
        "id": "LQ1uE04SFzUz"
      },
      "outputs": [],
      "source": [
        "#Retornando a maior receita\n",
        "df[\"Receita\"].max()"
      ]
    },
    {
      "cell_type": "code",
      "execution_count": null,
      "metadata": {
        "id": "WPX647D1F8o3"
      },
      "outputs": [],
      "source": [
        "#Retornando a menor receita\n",
        "df[\"Receita\"].min()"
      ]
    },
    {
      "cell_type": "code",
      "execution_count": null,
      "metadata": {
        "id": "ITLBQyhGGQtS"
      },
      "outputs": [],
      "source": [
        "#3 maiores receitas\n",
        "df.nlargest(3, \"Receita\")"
      ]
    },
    {
      "cell_type": "code",
      "execution_count": null,
      "metadata": {
        "id": "lVsa_SQNGaMq"
      },
      "outputs": [],
      "source": [
        "#3 menores receitas\n",
        "df.nsmallest(3, \"Receita\")"
      ]
    },
    {
      "cell_type": "code",
      "execution_count": null,
      "metadata": {
        "id": "VEylHCfCHJSA"
      },
      "outputs": [],
      "source": [
        "#Agrupamento por cidade\n",
        "df.groupby(\"Cidade\")[\"Receita\"].sum()"
      ]
    },
    {
      "cell_type": "code",
      "execution_count": null,
      "metadata": {
        "id": "IBK6MODlHgW_"
      },
      "outputs": [],
      "source": [
        "#Ordenando o conjunto de dados\n",
        "df.sort_values(\"Receita\", ascending=False).head(10)"
      ]
    },
    {
      "cell_type": "markdown",
      "metadata": {
        "id": "IWxgmCoVnzm4"
      },
      "source": [
        "### **Trabalhando com datas**"
      ]
    },
    {
      "cell_type": "code",
      "execution_count": 15,
      "metadata": {
        "id": "Q9gcHxsnn-EF"
      },
      "outputs": [],
      "source": [
        "#Transformando a coluna de data em tipo inteiro\n",
        "df[\"Data\"] = df[\"Data\"].astype(\"int64\")"
      ]
    },
    {
      "cell_type": "code",
      "execution_count": null,
      "metadata": {
        "id": "5c3N-Rp0pIgU"
      },
      "outputs": [],
      "source": [
        "#Verificando tipo de dados de cada coluna\n",
        "df.dtypes"
      ]
    },
    {
      "cell_type": "code",
      "execution_count": 17,
      "metadata": {
        "id": "mfE_pjjipQDj"
      },
      "outputs": [],
      "source": [
        "#Transformando coluna de data em data\n",
        "df[\"Data\"] = pd.to_datetime(df[\"Data\"])"
      ]
    },
    {
      "cell_type": "code",
      "execution_count": null,
      "metadata": {
        "id": "QYs_w5GCpmGq"
      },
      "outputs": [],
      "source": [
        "#Verificando tipo de dados de cada coluna\n",
        "df.dtypes"
      ]
    },
    {
      "cell_type": "code",
      "execution_count": null,
      "metadata": {
        "id": "OYW8VpZsporT"
      },
      "outputs": [],
      "source": [
        "#Agrupamento por ano\n",
        "df.groupby(df[\"Data\"].dt.year)[\"Receita\"].sum()"
      ]
    },
    {
      "cell_type": "code",
      "execution_count": 25,
      "metadata": {
        "id": "domH8w2IrVxP"
      },
      "outputs": [],
      "source": [
        "#Criando uma nova coluna com ano\n",
        "df[\"Ano_Venda\"] = df[\"Data\"].dt.year"
      ]
    },
    {
      "cell_type": "code",
      "execution_count": null,
      "metadata": {
        "id": "QxZi1vLPr7Oj"
      },
      "outputs": [],
      "source": [
        "#Amostra de 5 linhas\n",
        "df.sample(5)"
      ]
    },
    {
      "cell_type": "code",
      "execution_count": 28,
      "metadata": {
        "id": "sKzyFHTasAIX"
      },
      "outputs": [],
      "source": [
        "#Extraindo o mês e o dia\n",
        "df[\"mes_venda\"], df[\"dia_venda\"] = (df[\"Data\"].dt.month, df[\"Data\"].dt.day)"
      ]
    },
    {
      "cell_type": "code",
      "execution_count": null,
      "metadata": {
        "id": "yXxM9fAAsgX_"
      },
      "outputs": [],
      "source": [
        "#Amostra de 5 linhas\n",
        "df.sample(5)"
      ]
    },
    {
      "cell_type": "code",
      "execution_count": null,
      "metadata": {
        "id": "xwOMeuf_suy1"
      },
      "outputs": [],
      "source": [
        "#Retornado a data mais antiga\n",
        "df[\"Data\"].min()"
      ]
    },
    {
      "cell_type": "code",
      "execution_count": 33,
      "metadata": {
        "id": "E-hovSa2tAYs"
      },
      "outputs": [],
      "source": [
        "#Calculando a diferença de dias\n",
        "df[\"diferenca_dias\"] = df[\"Data\"] - df[\"Data\"].min()"
      ]
    },
    {
      "cell_type": "code",
      "execution_count": null,
      "metadata": {
        "id": "h_1bMBT6tUi0"
      },
      "outputs": [],
      "source": [
        "#Amostra de 5 linhas\n",
        "df.sample(5)"
      ]
    },
    {
      "cell_type": "code",
      "execution_count": 36,
      "metadata": {
        "id": "fArhTBG6thgq"
      },
      "outputs": [],
      "source": [
        "#Criando a coluna de trimestre\n",
        "df[\"trimestre_venda\"] = df[\"Data\"].dt.quarter"
      ]
    },
    {
      "cell_type": "code",
      "execution_count": null,
      "metadata": {
        "id": "b5RFUWqit19i"
      },
      "outputs": [],
      "source": [
        "#Amostra de 5 linhas\n",
        "df.sample(5)"
      ]
    },
    {
      "cell_type": "code",
      "execution_count": 64,
      "metadata": {
        "id": "dFIrG_G_uY-y"
      },
      "outputs": [],
      "source": [
        "#Filtrando as vendas de 2019 do mês de março\n",
        "vendas_marco_19 = df.loc[(df[\"Data\"].dt.year == 2019) & (df[\"Data\"].dt.month == 3)]"
      ]
    },
    {
      "cell_type": "code",
      "execution_count": null,
      "metadata": {
        "id": "7INIrMaQvVhb"
      },
      "outputs": [],
      "source": [
        "vendas_marco_19.sample(20)"
      ]
    }
  ],
  "metadata": {
    "colab": {
      "provenance": []
    },
    "kernelspec": {
      "display_name": "Python 3.8.9 64-bit",
      "language": "python",
      "name": "python3"
    },
    "language_info": {
      "name": "python",
      "version": "3.8.9"
    },
    "vscode": {
      "interpreter": {
        "hash": "096bb311385f28ae85a3c1b9a82383b51995c6ab86b2b9a018627badcfff7c52"
      }
    }
  },
  "nbformat": 4,
  "nbformat_minor": 0
}
