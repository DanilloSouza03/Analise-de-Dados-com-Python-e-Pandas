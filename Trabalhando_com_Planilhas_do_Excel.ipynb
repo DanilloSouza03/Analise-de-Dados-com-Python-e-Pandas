{
  "nbformat": 4,
  "nbformat_minor": 0,
  "metadata": {
    "colab": {
      "provenance": []
    },
    "kernelspec": {
      "name": "python3",
      "display_name": "Python 3"
    },
    "language_info": {
      "name": "python"
    }
  },
  "cells": [
    {
      "cell_type": "markdown",
      "source": [
        "# **Trabalhando com Planilhas do Excel**"
      ],
      "metadata": {
        "id": "j1MWTvwA4iJl"
      }
    },
    {
      "cell_type": "code",
      "source": [
        "#Importando a biblioteca pandas\n",
        "import pandas as pd"
      ],
      "metadata": {
        "id": "g2H39S2O4na0"
      },
      "execution_count": 14,
      "outputs": []
    },
    {
      "cell_type": "code",
      "source": [
        "#Leitura dos arquivos\n",
        "df1 = pd.read_excel(\"Aracaju.xlsx\")\n",
        "df2 = pd.read_excel(\"Fortaleza.xlsx\")\n",
        "df3 = pd.read_excel(\"Natal.xlsx\")\n",
        "df4 = pd.read_excel(\"Recife.xlsx\")\n",
        "df5 = pd.read_excel(\"Salvador.xlsx\")"
      ],
      "metadata": {
        "id": "EKWQbVm-6xcz"
      },
      "execution_count": 15,
      "outputs": []
    },
    {
      "cell_type": "code",
      "source": [
        "#Juntando todos arquivos\n",
        "df = pd.concat([df1,df2,df3,df4,df5])"
      ],
      "metadata": {
        "id": "Fuy-lzIe7jt2"
      },
      "execution_count": 21,
      "outputs": []
    },
    {
      "cell_type": "code",
      "source": [
        "#Exibindo as 5 primeiras linhas\n",
        "df.head()"
      ],
      "metadata": {
        "id": "0sLqoqwA70rb"
      },
      "execution_count": null,
      "outputs": []
    },
    {
      "cell_type": "code",
      "source": [
        "#Exbindo as 5 últimas linhas\n",
        "df.tail()"
      ],
      "metadata": {
        "id": "eKp7RDGU728F"
      },
      "execution_count": null,
      "outputs": []
    },
    {
      "cell_type": "code",
      "source": [
        "#Exibindo uma amostra de 10 linhas\n",
        "df.sample(10)"
      ],
      "metadata": {
        "id": "Ne-PiUfz95Y6"
      },
      "execution_count": null,
      "outputs": []
    },
    {
      "cell_type": "code",
      "source": [
        "#Verificando os tipos de dados de cada coluna\n",
        "df.dtypes"
      ],
      "metadata": {
        "id": "3Aj-A6am8KwR"
      },
      "execution_count": null,
      "outputs": []
    },
    {
      "cell_type": "code",
      "source": [
        "#Alterando o tipo de dado da coluna LojaID\n",
        "df[\"LojaID\"] = df[\"LojaID\"].astype(\"object\")"
      ],
      "metadata": {
        "id": "MO1ZCTcc-bwj"
      },
      "execution_count": 29,
      "outputs": []
    },
    {
      "cell_type": "code",
      "source": [
        "#Verificando os tipos de dados de cada coluna\n",
        "df.dtypes"
      ],
      "metadata": {
        "id": "IBE_Jcoc-0bo"
      },
      "execution_count": null,
      "outputs": []
    },
    {
      "cell_type": "code",
      "source": [
        "#Exibindo as 5 primeiras linhas\n",
        "df.head()"
      ],
      "metadata": {
        "id": "ZqUMzucT_ECP"
      },
      "execution_count": null,
      "outputs": []
    },
    {
      "cell_type": "code",
      "source": [
        "#Verificando a quantidade de linhas e colunas\n",
        "df.shape"
      ],
      "metadata": {
        "id": "aREwgaew8aIl"
      },
      "execution_count": null,
      "outputs": []
    },
    {
      "cell_type": "markdown",
      "source": [
        "### **Tratando valores faltantes**"
      ],
      "metadata": {
        "id": "yc5TxXbG_QAf"
      }
    },
    {
      "cell_type": "code",
      "source": [
        "#Consultando linhas com valores faltantes\n",
        "df.isnull().sum()"
      ],
      "metadata": {
        "id": "uPMFiWPh_cde"
      },
      "execution_count": null,
      "outputs": []
    },
    {
      "cell_type": "code",
      "source": [
        "#Substituindo os valores numos pela média em memória\n",
        "df[\"Vendas\"].fillna(df[\"Vendas\"].mean(), inplace=True)"
      ],
      "metadata": {
        "id": "BpT8n_gYAsSX"
      },
      "execution_count": 37,
      "outputs": []
    },
    {
      "cell_type": "code",
      "source": [
        "#Vendo a média da coluna Vendas\n",
        "df[\"Vendas\"].mean()"
      ],
      "metadata": {
        "id": "HLDiKQlxCL_S"
      },
      "execution_count": null,
      "outputs": []
    },
    {
      "cell_type": "code",
      "source": [
        "#Consultando linhas com valores faltantes\n",
        "df.isnull().sum()"
      ],
      "metadata": {
        "id": "6RjR2tK2AvD_"
      },
      "execution_count": null,
      "outputs": []
    },
    {
      "cell_type": "code",
      "source": [
        "#Substituindo os valores nulos por zero\n",
        "df[\"Vendas\"].fillna(0, inplace=True)"
      ],
      "metadata": {
        "id": "iwjogbnpCDgL"
      },
      "execution_count": 40,
      "outputs": []
    },
    {
      "cell_type": "code",
      "source": [
        "#Apagando as linhas com valores nulos\n",
        "df.dropna(inplace=True)"
      ],
      "metadata": {
        "id": "wskuQI0jC6vo"
      },
      "execution_count": 48,
      "outputs": []
    },
    {
      "cell_type": "code",
      "source": [
        "#Apagando as linhas com valores nulos com base em uma coluna\n",
        "df.dropna(subset=[\"Vendas\"], inplace=True)"
      ],
      "metadata": {
        "id": "2oJH-SC8Dczf"
      },
      "execution_count": 49,
      "outputs": []
    },
    {
      "cell_type": "code",
      "source": [
        "#Removendo linhas que estejam com valores faltantes em todas colunas\n",
        "df.dropna(how=\"all\", inplace=True)"
      ],
      "metadata": {
        "id": "O29HeffsDshf"
      },
      "execution_count": 50,
      "outputs": []
    },
    {
      "cell_type": "markdown",
      "source": [
        "### **Criando colunas novas**"
      ],
      "metadata": {
        "id": "8x0ASwEHD7ws"
      }
    },
    {
      "cell_type": "code",
      "source": [
        "#Criando a coluna de receita\n",
        "df[\"Receita\"] = df[\"Vendas\"].mul(df[\"Qtde\"]) "
      ],
      "metadata": {
        "id": "QJAkyXPTEByD"
      },
      "execution_count": 41,
      "outputs": []
    },
    {
      "cell_type": "code",
      "source": [
        "#Mostrando as 5 primeiras linhas\n",
        "df.head()"
      ],
      "metadata": {
        "id": "GnBhVkz4Ehpd"
      },
      "execution_count": null,
      "outputs": []
    },
    {
      "cell_type": "code",
      "source": [
        "#Criando nova coluna\n",
        "df[\"Receita/Vendas\"] = df[\"Receita\"] / df[\"Vendas\"]"
      ],
      "metadata": {
        "id": "o0gzSqwSE9a3"
      },
      "execution_count": 43,
      "outputs": []
    },
    {
      "cell_type": "code",
      "source": [
        "#Mostrando as 5 primeiras linhas\n",
        "df.head()"
      ],
      "metadata": {
        "id": "oQtAB7PaFnLb"
      },
      "execution_count": null,
      "outputs": []
    },
    {
      "cell_type": "code",
      "source": [
        "#Retornando a maior receita\n",
        "df[\"Receita\"].max()"
      ],
      "metadata": {
        "colab": {
          "base_uri": "https://localhost:8080/"
        },
        "id": "LQ1uE04SFzUz",
        "outputId": "6b8655a2-e5b2-432c-fc6e-85baf94177ea"
      },
      "execution_count": 52,
      "outputs": [
        {
          "output_type": "execute_result",
          "data": {
            "text/plain": [
              "3544.0"
            ]
          },
          "metadata": {},
          "execution_count": 52
        }
      ]
    },
    {
      "cell_type": "code",
      "source": [
        "#Retornando a menor receita\n",
        "df[\"Receita\"].min()"
      ],
      "metadata": {
        "colab": {
          "base_uri": "https://localhost:8080/"
        },
        "id": "WPX647D1F8o3",
        "outputId": "945d9c4d-d5c2-463a-f7e8-dd7966e7dc2c"
      },
      "execution_count": 53,
      "outputs": [
        {
          "output_type": "execute_result",
          "data": {
            "text/plain": [
              "3.34"
            ]
          },
          "metadata": {},
          "execution_count": 53
        }
      ]
    },
    {
      "cell_type": "code",
      "source": [
        "#3 maiores receitas\n",
        "df.nlargest(3, \"Receita\")"
      ],
      "metadata": {
        "id": "ITLBQyhGGQtS"
      },
      "execution_count": null,
      "outputs": []
    },
    {
      "cell_type": "code",
      "source": [
        "#3 menores receitas\n",
        "df.nsmallest(3, \"Receita\")"
      ],
      "metadata": {
        "id": "lVsa_SQNGaMq"
      },
      "execution_count": null,
      "outputs": []
    },
    {
      "cell_type": "code",
      "source": [
        "#Agrupamento por cidade\n",
        "df.groupby(\"Cidade\")[\"Receita\"].sum()"
      ],
      "metadata": {
        "id": "VEylHCfCHJSA"
      },
      "execution_count": null,
      "outputs": []
    },
    {
      "cell_type": "code",
      "source": [
        "#Ordenando o conjunto de dados\n",
        "df.sort_values(\"Receita\", ascending=False).head(10)"
      ],
      "metadata": {
        "id": "IBK6MODlHgW_"
      },
      "execution_count": null,
      "outputs": []
    }
  ]
}